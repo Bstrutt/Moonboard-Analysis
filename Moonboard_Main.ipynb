{
  "nbformat": 4,
  "nbformat_minor": 0,
  "metadata": {
    "colab": {
      "name": "Moonboard Main.ipynb",
      "provenance": [],
      "collapsed_sections": [],
      "authorship_tag": "ABX9TyPp3UhkNMckFieXFBt64j5I",
      "include_colab_link": true
    },
    "kernelspec": {
      "name": "python3",
      "display_name": "Python 3"
    },
    "language_info": {
      "name": "python"
    }
  },
  "cells": [
    {
      "cell_type": "markdown",
      "metadata": {
        "id": "view-in-github",
        "colab_type": "text"
      },
      "source": [
        "<a href=\"https://colab.research.google.com/github/Bstrutt/Moonboard-Analysis/blob/main/Moonboard_Main.ipynb\" target=\"_parent\"><img src=\"https://colab.research.google.com/assets/colab-badge.svg\" alt=\"Open In Colab\"/></a>"
      ]
    },
    {
      "cell_type": "markdown",
      "source": [
        "### Imports"
      ],
      "metadata": {
        "id": "2GBBm14apt-n"
      }
    },
    {
      "cell_type": "code",
      "source": [
        "!pip install requests_html\n",
        "import requests\n",
        "from requests_html import HTMLSession\n",
        "from json import JSONDecoder\n",
        "import pandas as pd\n"
      ],
      "metadata": {
        "id": "BjYog_Zl2PsG",
        "colab": {
          "base_uri": "https://localhost:8080/",
          "height": 242
        },
        "outputId": "def8fbce-64ac-4c50-f86e-04f16135311b"
      },
      "execution_count": 24,
      "outputs": [
        {
          "output_type": "stream",
          "name": "stdout",
          "text": [
            "Installing collected packages: websockets, urllib3, pyee, cssselect, w3lib, pyquery, pyppeteer, parse, fake-useragent, requests-html\n",
            "  Attempting uninstall: urllib3\n",
            "    Found existing installation: urllib3 1.24.3\n",
            "    Uninstalling urllib3-1.24.3:\n",
            "      Successfully uninstalled urllib3-1.24.3\n",
            "\u001b[31mERROR: pip's dependency resolver does not currently take into account all the packages that are installed. This behaviour is the source of the following dependency conflicts.\n",
            "datascience 0.10.6 requires folium==0.2.1, but you have folium 0.8.3 which is incompatible.\u001b[0m\n",
            "Successfully installed cssselect-1.1.0 fake-useragent-0.1.11 parse-1.19.0 pyee-8.2.2 pyppeteer-1.0.2 pyquery-1.4.3 requests-html-0.10.0 urllib3-1.25.11 w3lib-1.22.0 websockets-10.2\n"
          ]
        },
        {
          "output_type": "display_data",
          "data": {
            "application/vnd.colab-display-data+json": {
              "pip_warning": {
                "packages": [
                  "urllib3"
                ]
              }
            }
          },
          "metadata": {}
        }
      ]
    },
    {
      "cell_type": "markdown",
      "source": [
        "### Helper Functions "
      ],
      "metadata": {
        "id": "4EpyRNTLpawE"
      }
    },
    {
      "cell_type": "code",
      "source": [
        "#This function taken directly from here: https://stackoverflow.com/questions/54235528/how-to-find-json-object-in-text-with-python\n",
        "def extract_json_objects(text, decoder=JSONDecoder()):\n",
        "    pos = 0\n",
        "    while True:\n",
        "        match = text.find('{', pos)\n",
        "        if match == -1:\n",
        "            break\n",
        "        try:\n",
        "            result, index = decoder.raw_decode(text[match:])\n",
        "            return result\n",
        "            pos = match + index\n",
        "        except ValueError:\n",
        "            pos = match + 1"
      ],
      "metadata": {
        "id": "5wbp_PhMAAtZ"
      },
      "execution_count": 25,
      "outputs": []
    },
    {
      "cell_type": "code",
      "source": [
        "def column(letter):\n",
        "    if letter == 'A':\n",
        "      return 0\n",
        "    elif letter == 'B':\n",
        "      return 1\n",
        "    elif letter == 'C':\n",
        "      return 2\n",
        "    elif letter == 'D':\n",
        "      return 3\n",
        "    elif letter == 'E':\n",
        "      return 4\n",
        "    elif letter == 'F':\n",
        "      return 5\n",
        "    elif letter == 'G':\n",
        "      return 6\n",
        "    elif letter == 'H':\n",
        "      return 7\n",
        "    elif letter == 'I':\n",
        "      return 8\n",
        "    elif letter == 'J':\n",
        "      return 9\n",
        "    elif letter == 'K':\n",
        "      return 10\n",
        "    elif letter == 'L':\n",
        "      return 11"
      ],
      "metadata": {
        "id": "KJYQklrRB9CJ"
      },
      "execution_count": 26,
      "outputs": []
    },
    {
      "cell_type": "code",
      "source": [
        "def boardify(locationsList, typeList):\n",
        "  board = [[0 for i in range(11)] for j in range(18)]\n",
        "  for (loc, typ) in zip(locationsList, typeList):\n",
        "    col = column(loc[0])\n",
        "    row = 18 - int(loc[1:])\n",
        "    board[row][col] = typ\n",
        "  return board\n",
        "  "
      ],
      "metadata": {
        "id": "-WDSKd1jpZQI"
      },
      "execution_count": 27,
      "outputs": []
    },
    {
      "cell_type": "code",
      "source": [
        "def getBinaryBoard(board):\n",
        "  binBoard = [[0 for i in range(11)] for j in range(18)]\n",
        "  for i in range(0,len(board)):\n",
        "    for j in range(len(board[i])):\n",
        "      if board[i][j] != 0:\n",
        "        binBoard[i][j] = 1\n",
        "      else:\n",
        "        binBoard[i][j] = 0\n",
        "  return binBoard\n"
      ],
      "metadata": {
        "id": "VNyaS594DNJg"
      },
      "execution_count": 28,
      "outputs": []
    },
    {
      "cell_type": "code",
      "source": [
        "def getCoords(locList):\n",
        "  coords = []\n",
        "  for loc in locList:\n",
        "    col = column(loc[0])\n",
        "    row = 18 - int(loc[1:])\n",
        "    coords.append((row, col))\n",
        "  return coords"
      ],
      "metadata": {
        "id": "KHdvTzxPJQsN"
      },
      "execution_count": 29,
      "outputs": []
    },
    {
      "cell_type": "markdown",
      "source": [
        "### Scraping and dataframing\n",
        "\n",
        "Our eventual output is a dataframe called 'routesDf'\n",
        "\n",
        "The URL callouts can take a bit, usually around 3 minutes."
      ],
      "metadata": {
        "id": "xukU424ppf2B"
      }
    },
    {
      "cell_type": "code",
      "execution_count": 30,
      "metadata": {
        "id": "mvCjLMBN1ln1"
      },
      "outputs": [],
      "source": [
        "BASE = 'https://www.moonboard.com'\n",
        "path = ''\n",
        "\n",
        "session = HTMLSession()"
      ]
    },
    {
      "cell_type": "code",
      "source": [
        "routeJsons = []\n",
        "file = open('benchmarkPaths', 'r')\n",
        "Lines = file.readlines()\n",
        "\n",
        "for line in Lines:\n",
        "  url = BASE + line[:-1]\n",
        "  response = session.get(url)\n",
        "  text = response.text\n",
        "  routeJsons.append(extract_json_objects(text))\n",
        "routeJsons = routeJsons[:-1]"
      ],
      "metadata": {
        "id": "oyCEasl41riH"
      },
      "execution_count": 31,
      "outputs": []
    },
    {
      "cell_type": "code",
      "source": [
        "#Trying to test which of these is faster\n",
        "grades = []\n",
        "locations = []\n",
        "holds = []\n",
        "names = []\n",
        "for route in routeJsons:\n",
        "  grades.append(route['Grade'])\n",
        "  names.append(route['Name'])\n",
        "  locationDescriptions = []\n",
        "  holdTypes = []\n",
        "  for loc in route['Locations']:\n",
        "    locationDescriptions.append(loc['Description'])\n",
        "    holdTypes.append(loc['Type'])\n",
        "  locations.append(locationDescriptions)\n",
        "  holds.append(holdTypes)"
      ],
      "metadata": {
        "id": "GLxNjBSm9YyN"
      },
      "execution_count": 32,
      "outputs": []
    },
    {
      "cell_type": "code",
      "source": [
        "routesDf = pd.DataFrame()\n",
        "\n",
        "routesDf.insert(0, 'Name', names)\n",
        "routesDf.insert(1, 'Grade', grades)\n",
        "routesDf.insert(2, 'Locations', locations)\n",
        "routesDf.insert(3, 'Hold Types', holds)\n"
      ],
      "metadata": {
        "id": "n_3ouRgXHfV9"
      },
      "execution_count": 33,
      "outputs": []
    },
    {
      "cell_type": "markdown",
      "source": [
        "### EDA"
      ],
      "metadata": {
        "id": "DCnW6z77rvwo"
      }
    },
    {
      "cell_type": "markdown",
      "source": [
        "A simple look at our data now that it's processed."
      ],
      "metadata": {
        "id": "SwHbOFNOHUmS"
      }
    },
    {
      "cell_type": "code",
      "source": [
        "routesDf"
      ],
      "metadata": {
        "colab": {
          "base_uri": "https://localhost:8080/",
          "height": 468
        },
        "id": "Ml18X_hRry-L",
        "outputId": "9af1ee45-4d3c-4eae-860f-8e08490036f4"
      },
      "execution_count": 45,
      "outputs": [
        {
          "output_type": "execute_result",
          "data": {
            "text/plain": [
              "                  Name Grade                                  Locations  \\\n",
              "0         BLACK BEAUTY    8B                         [E14, H18, I9, J5]   \n",
              "1            PROJECT 2   8A+               [A16, A18, D10, H14, K6, K7]   \n",
              "2      SHATTERED MERCY   8A+       [B4, C18, D3, G7, H15, H14, I8, K12]   \n",
              "3         ATTIC ADDICT    8A       [A18, E6, F16, F15, F8, G2, J12, J6]   \n",
              "4                BUNNY    8A       [B4, G7, G16, H18, H7, K8, K10, K13]   \n",
              "..                 ...   ...                                        ...   \n",
              "442      WARM UP NO. 8   6B+          [E18, F13, F5, I10, I16, J12, J8]   \n",
              "443  WUTHERING HEIGHTS   6B+          [E15, E18, F5, G13, I11, J8, K11]   \n",
              "444          YAYABLACK   6B+       [C13, D18, D15, E8, H10, H5, J7, J5]   \n",
              "445      YOU GET A CAR   6B+  [A9, C13, D12, E8, F14, F5, G14, G18, K5]   \n",
              "446                課題2   6B+               [C10, E8, F15, F5, G14, I18]   \n",
              "\n",
              "                      Hold Types  \\\n",
              "0                   [2, 3, 2, 1]   \n",
              "1             [2, 3, 2, 2, 1, 2]   \n",
              "2       [1, 3, 1, 2, 2, 2, 2, 2]   \n",
              "3       [3, 1, 2, 2, 2, 1, 2, 2]   \n",
              "4       [1, 2, 2, 3, 2, 2, 2, 2]   \n",
              "..                           ...   \n",
              "442        [3, 2, 1, 2, 2, 2, 2]   \n",
              "443        [2, 3, 1, 2, 2, 2, 2]   \n",
              "444     [2, 3, 2, 2, 2, 1, 2, 1]   \n",
              "445  [2, 2, 2, 2, 2, 2, 2, 3, 1]   \n",
              "446           [2, 2, 2, 1, 2, 3]   \n",
              "\n",
              "                                            Full Board  \\\n",
              "0    [[0, 0, 0, 0, 0, 0, 0, 3, 0, 0, 0], [0, 0, 0, ...   \n",
              "1    [[3, 0, 0, 0, 0, 0, 0, 0, 0, 0, 0], [0, 0, 0, ...   \n",
              "2    [[0, 0, 3, 0, 0, 0, 0, 0, 0, 0, 0], [0, 0, 0, ...   \n",
              "3    [[3, 0, 0, 0, 0, 0, 0, 0, 0, 0, 0], [0, 0, 0, ...   \n",
              "4    [[0, 0, 0, 0, 0, 0, 0, 3, 0, 0, 0], [0, 0, 0, ...   \n",
              "..                                                 ...   \n",
              "442  [[0, 0, 0, 0, 3, 0, 0, 0, 0, 0, 0], [0, 0, 0, ...   \n",
              "443  [[0, 0, 0, 0, 3, 0, 0, 0, 0, 0, 0], [0, 0, 0, ...   \n",
              "444  [[0, 0, 0, 3, 0, 0, 0, 0, 0, 0, 0], [0, 0, 0, ...   \n",
              "445  [[0, 0, 0, 0, 0, 0, 3, 0, 0, 0, 0], [0, 0, 0, ...   \n",
              "446  [[0, 0, 0, 0, 0, 0, 0, 0, 3, 0, 0], [0, 0, 0, ...   \n",
              "\n",
              "                                          Binary Board  \\\n",
              "0    [[0, 0, 0, 0, 0, 0, 0, 1, 0, 0, 0], [0, 0, 0, ...   \n",
              "1    [[1, 0, 0, 0, 0, 0, 0, 0, 0, 0, 0], [0, 0, 0, ...   \n",
              "2    [[0, 0, 1, 0, 0, 0, 0, 0, 0, 0, 0], [0, 0, 0, ...   \n",
              "3    [[1, 0, 0, 0, 0, 0, 0, 0, 0, 0, 0], [0, 0, 0, ...   \n",
              "4    [[0, 0, 0, 0, 0, 0, 0, 1, 0, 0, 0], [0, 0, 0, ...   \n",
              "..                                                 ...   \n",
              "442  [[0, 0, 0, 0, 1, 0, 0, 0, 0, 0, 0], [0, 0, 0, ...   \n",
              "443  [[0, 0, 0, 0, 1, 0, 0, 0, 0, 0, 0], [0, 0, 0, ...   \n",
              "444  [[0, 0, 0, 1, 0, 0, 0, 0, 0, 0, 0], [0, 0, 0, ...   \n",
              "445  [[0, 0, 0, 0, 0, 0, 1, 0, 0, 0, 0], [0, 0, 0, ...   \n",
              "446  [[0, 0, 0, 0, 0, 0, 0, 0, 1, 0, 0], [0, 0, 0, ...   \n",
              "\n",
              "                                       Location Coords  \n",
              "0                    [(4, 4), (0, 7), (9, 8), (13, 9)]  \n",
              "1    [(2, 0), (0, 0), (8, 3), (4, 7), (12, 10), (11...  \n",
              "2    [(14, 1), (0, 2), (15, 3), (11, 6), (3, 7), (4...  \n",
              "3    [(0, 0), (12, 4), (2, 5), (3, 5), (10, 5), (16...  \n",
              "4    [(14, 1), (11, 6), (2, 6), (0, 7), (11, 7), (1...  \n",
              "..                                                 ...  \n",
              "442  [(0, 4), (5, 5), (13, 5), (8, 8), (2, 8), (6, ...  \n",
              "443  [(3, 4), (0, 4), (13, 5), (5, 6), (7, 8), (10,...  \n",
              "444  [(5, 2), (0, 3), (3, 3), (10, 4), (8, 7), (13,...  \n",
              "445  [(9, 0), (5, 2), (6, 3), (10, 4), (4, 5), (13,...  \n",
              "446  [(8, 2), (10, 4), (3, 5), (13, 5), (4, 6), (0,...  \n",
              "\n",
              "[447 rows x 7 columns]"
            ],
            "text/html": [
              "\n",
              "  <div id=\"df-27b0d427-228f-47df-aa12-249de6f1ee51\">\n",
              "    <div class=\"colab-df-container\">\n",
              "      <div>\n",
              "<style scoped>\n",
              "    .dataframe tbody tr th:only-of-type {\n",
              "        vertical-align: middle;\n",
              "    }\n",
              "\n",
              "    .dataframe tbody tr th {\n",
              "        vertical-align: top;\n",
              "    }\n",
              "\n",
              "    .dataframe thead th {\n",
              "        text-align: right;\n",
              "    }\n",
              "</style>\n",
              "<table border=\"1\" class=\"dataframe\">\n",
              "  <thead>\n",
              "    <tr style=\"text-align: right;\">\n",
              "      <th></th>\n",
              "      <th>Name</th>\n",
              "      <th>Grade</th>\n",
              "      <th>Locations</th>\n",
              "      <th>Hold Types</th>\n",
              "      <th>Full Board</th>\n",
              "      <th>Binary Board</th>\n",
              "      <th>Location Coords</th>\n",
              "    </tr>\n",
              "  </thead>\n",
              "  <tbody>\n",
              "    <tr>\n",
              "      <th>0</th>\n",
              "      <td>BLACK BEAUTY</td>\n",
              "      <td>8B</td>\n",
              "      <td>[E14, H18, I9, J5]</td>\n",
              "      <td>[2, 3, 2, 1]</td>\n",
              "      <td>[[0, 0, 0, 0, 0, 0, 0, 3, 0, 0, 0], [0, 0, 0, ...</td>\n",
              "      <td>[[0, 0, 0, 0, 0, 0, 0, 1, 0, 0, 0], [0, 0, 0, ...</td>\n",
              "      <td>[(4, 4), (0, 7), (9, 8), (13, 9)]</td>\n",
              "    </tr>\n",
              "    <tr>\n",
              "      <th>1</th>\n",
              "      <td>PROJECT 2</td>\n",
              "      <td>8A+</td>\n",
              "      <td>[A16, A18, D10, H14, K6, K7]</td>\n",
              "      <td>[2, 3, 2, 2, 1, 2]</td>\n",
              "      <td>[[3, 0, 0, 0, 0, 0, 0, 0, 0, 0, 0], [0, 0, 0, ...</td>\n",
              "      <td>[[1, 0, 0, 0, 0, 0, 0, 0, 0, 0, 0], [0, 0, 0, ...</td>\n",
              "      <td>[(2, 0), (0, 0), (8, 3), (4, 7), (12, 10), (11...</td>\n",
              "    </tr>\n",
              "    <tr>\n",
              "      <th>2</th>\n",
              "      <td>SHATTERED MERCY</td>\n",
              "      <td>8A+</td>\n",
              "      <td>[B4, C18, D3, G7, H15, H14, I8, K12]</td>\n",
              "      <td>[1, 3, 1, 2, 2, 2, 2, 2]</td>\n",
              "      <td>[[0, 0, 3, 0, 0, 0, 0, 0, 0, 0, 0], [0, 0, 0, ...</td>\n",
              "      <td>[[0, 0, 1, 0, 0, 0, 0, 0, 0, 0, 0], [0, 0, 0, ...</td>\n",
              "      <td>[(14, 1), (0, 2), (15, 3), (11, 6), (3, 7), (4...</td>\n",
              "    </tr>\n",
              "    <tr>\n",
              "      <th>3</th>\n",
              "      <td>ATTIC ADDICT</td>\n",
              "      <td>8A</td>\n",
              "      <td>[A18, E6, F16, F15, F8, G2, J12, J6]</td>\n",
              "      <td>[3, 1, 2, 2, 2, 1, 2, 2]</td>\n",
              "      <td>[[3, 0, 0, 0, 0, 0, 0, 0, 0, 0, 0], [0, 0, 0, ...</td>\n",
              "      <td>[[1, 0, 0, 0, 0, 0, 0, 0, 0, 0, 0], [0, 0, 0, ...</td>\n",
              "      <td>[(0, 0), (12, 4), (2, 5), (3, 5), (10, 5), (16...</td>\n",
              "    </tr>\n",
              "    <tr>\n",
              "      <th>4</th>\n",
              "      <td>BUNNY</td>\n",
              "      <td>8A</td>\n",
              "      <td>[B4, G7, G16, H18, H7, K8, K10, K13]</td>\n",
              "      <td>[1, 2, 2, 3, 2, 2, 2, 2]</td>\n",
              "      <td>[[0, 0, 0, 0, 0, 0, 0, 3, 0, 0, 0], [0, 0, 0, ...</td>\n",
              "      <td>[[0, 0, 0, 0, 0, 0, 0, 1, 0, 0, 0], [0, 0, 0, ...</td>\n",
              "      <td>[(14, 1), (11, 6), (2, 6), (0, 7), (11, 7), (1...</td>\n",
              "    </tr>\n",
              "    <tr>\n",
              "      <th>...</th>\n",
              "      <td>...</td>\n",
              "      <td>...</td>\n",
              "      <td>...</td>\n",
              "      <td>...</td>\n",
              "      <td>...</td>\n",
              "      <td>...</td>\n",
              "      <td>...</td>\n",
              "    </tr>\n",
              "    <tr>\n",
              "      <th>442</th>\n",
              "      <td>WARM UP NO. 8</td>\n",
              "      <td>6B+</td>\n",
              "      <td>[E18, F13, F5, I10, I16, J12, J8]</td>\n",
              "      <td>[3, 2, 1, 2, 2, 2, 2]</td>\n",
              "      <td>[[0, 0, 0, 0, 3, 0, 0, 0, 0, 0, 0], [0, 0, 0, ...</td>\n",
              "      <td>[[0, 0, 0, 0, 1, 0, 0, 0, 0, 0, 0], [0, 0, 0, ...</td>\n",
              "      <td>[(0, 4), (5, 5), (13, 5), (8, 8), (2, 8), (6, ...</td>\n",
              "    </tr>\n",
              "    <tr>\n",
              "      <th>443</th>\n",
              "      <td>WUTHERING HEIGHTS</td>\n",
              "      <td>6B+</td>\n",
              "      <td>[E15, E18, F5, G13, I11, J8, K11]</td>\n",
              "      <td>[2, 3, 1, 2, 2, 2, 2]</td>\n",
              "      <td>[[0, 0, 0, 0, 3, 0, 0, 0, 0, 0, 0], [0, 0, 0, ...</td>\n",
              "      <td>[[0, 0, 0, 0, 1, 0, 0, 0, 0, 0, 0], [0, 0, 0, ...</td>\n",
              "      <td>[(3, 4), (0, 4), (13, 5), (5, 6), (7, 8), (10,...</td>\n",
              "    </tr>\n",
              "    <tr>\n",
              "      <th>444</th>\n",
              "      <td>YAYABLACK</td>\n",
              "      <td>6B+</td>\n",
              "      <td>[C13, D18, D15, E8, H10, H5, J7, J5]</td>\n",
              "      <td>[2, 3, 2, 2, 2, 1, 2, 1]</td>\n",
              "      <td>[[0, 0, 0, 3, 0, 0, 0, 0, 0, 0, 0], [0, 0, 0, ...</td>\n",
              "      <td>[[0, 0, 0, 1, 0, 0, 0, 0, 0, 0, 0], [0, 0, 0, ...</td>\n",
              "      <td>[(5, 2), (0, 3), (3, 3), (10, 4), (8, 7), (13,...</td>\n",
              "    </tr>\n",
              "    <tr>\n",
              "      <th>445</th>\n",
              "      <td>YOU GET A CAR</td>\n",
              "      <td>6B+</td>\n",
              "      <td>[A9, C13, D12, E8, F14, F5, G14, G18, K5]</td>\n",
              "      <td>[2, 2, 2, 2, 2, 2, 2, 3, 1]</td>\n",
              "      <td>[[0, 0, 0, 0, 0, 0, 3, 0, 0, 0, 0], [0, 0, 0, ...</td>\n",
              "      <td>[[0, 0, 0, 0, 0, 0, 1, 0, 0, 0, 0], [0, 0, 0, ...</td>\n",
              "      <td>[(9, 0), (5, 2), (6, 3), (10, 4), (4, 5), (13,...</td>\n",
              "    </tr>\n",
              "    <tr>\n",
              "      <th>446</th>\n",
              "      <td>課題2</td>\n",
              "      <td>6B+</td>\n",
              "      <td>[C10, E8, F15, F5, G14, I18]</td>\n",
              "      <td>[2, 2, 2, 1, 2, 3]</td>\n",
              "      <td>[[0, 0, 0, 0, 0, 0, 0, 0, 3, 0, 0], [0, 0, 0, ...</td>\n",
              "      <td>[[0, 0, 0, 0, 0, 0, 0, 0, 1, 0, 0], [0, 0, 0, ...</td>\n",
              "      <td>[(8, 2), (10, 4), (3, 5), (13, 5), (4, 6), (0,...</td>\n",
              "    </tr>\n",
              "  </tbody>\n",
              "</table>\n",
              "<p>447 rows × 7 columns</p>\n",
              "</div>\n",
              "      <button class=\"colab-df-convert\" onclick=\"convertToInteractive('df-27b0d427-228f-47df-aa12-249de6f1ee51')\"\n",
              "              title=\"Convert this dataframe to an interactive table.\"\n",
              "              style=\"display:none;\">\n",
              "        \n",
              "  <svg xmlns=\"http://www.w3.org/2000/svg\" height=\"24px\"viewBox=\"0 0 24 24\"\n",
              "       width=\"24px\">\n",
              "    <path d=\"M0 0h24v24H0V0z\" fill=\"none\"/>\n",
              "    <path d=\"M18.56 5.44l.94 2.06.94-2.06 2.06-.94-2.06-.94-.94-2.06-.94 2.06-2.06.94zm-11 1L8.5 8.5l.94-2.06 2.06-.94-2.06-.94L8.5 2.5l-.94 2.06-2.06.94zm10 10l.94 2.06.94-2.06 2.06-.94-2.06-.94-.94-2.06-.94 2.06-2.06.94z\"/><path d=\"M17.41 7.96l-1.37-1.37c-.4-.4-.92-.59-1.43-.59-.52 0-1.04.2-1.43.59L10.3 9.45l-7.72 7.72c-.78.78-.78 2.05 0 2.83L4 21.41c.39.39.9.59 1.41.59.51 0 1.02-.2 1.41-.59l7.78-7.78 2.81-2.81c.8-.78.8-2.07 0-2.86zM5.41 20L4 18.59l7.72-7.72 1.47 1.35L5.41 20z\"/>\n",
              "  </svg>\n",
              "      </button>\n",
              "      \n",
              "  <style>\n",
              "    .colab-df-container {\n",
              "      display:flex;\n",
              "      flex-wrap:wrap;\n",
              "      gap: 12px;\n",
              "    }\n",
              "\n",
              "    .colab-df-convert {\n",
              "      background-color: #E8F0FE;\n",
              "      border: none;\n",
              "      border-radius: 50%;\n",
              "      cursor: pointer;\n",
              "      display: none;\n",
              "      fill: #1967D2;\n",
              "      height: 32px;\n",
              "      padding: 0 0 0 0;\n",
              "      width: 32px;\n",
              "    }\n",
              "\n",
              "    .colab-df-convert:hover {\n",
              "      background-color: #E2EBFA;\n",
              "      box-shadow: 0px 1px 2px rgba(60, 64, 67, 0.3), 0px 1px 3px 1px rgba(60, 64, 67, 0.15);\n",
              "      fill: #174EA6;\n",
              "    }\n",
              "\n",
              "    [theme=dark] .colab-df-convert {\n",
              "      background-color: #3B4455;\n",
              "      fill: #D2E3FC;\n",
              "    }\n",
              "\n",
              "    [theme=dark] .colab-df-convert:hover {\n",
              "      background-color: #434B5C;\n",
              "      box-shadow: 0px 1px 3px 1px rgba(0, 0, 0, 0.15);\n",
              "      filter: drop-shadow(0px 1px 2px rgba(0, 0, 0, 0.3));\n",
              "      fill: #FFFFFF;\n",
              "    }\n",
              "  </style>\n",
              "\n",
              "      <script>\n",
              "        const buttonEl =\n",
              "          document.querySelector('#df-27b0d427-228f-47df-aa12-249de6f1ee51 button.colab-df-convert');\n",
              "        buttonEl.style.display =\n",
              "          google.colab.kernel.accessAllowed ? 'block' : 'none';\n",
              "\n",
              "        async function convertToInteractive(key) {\n",
              "          const element = document.querySelector('#df-27b0d427-228f-47df-aa12-249de6f1ee51');\n",
              "          const dataTable =\n",
              "            await google.colab.kernel.invokeFunction('convertToInteractive',\n",
              "                                                     [key], {});\n",
              "          if (!dataTable) return;\n",
              "\n",
              "          const docLinkHtml = 'Like what you see? Visit the ' +\n",
              "            '<a target=\"_blank\" href=https://colab.research.google.com/notebooks/data_table.ipynb>data table notebook</a>'\n",
              "            + ' to learn more about interactive tables.';\n",
              "          element.innerHTML = '';\n",
              "          dataTable['output_type'] = 'display_data';\n",
              "          await google.colab.output.renderOutput(dataTable, element);\n",
              "          const docLink = document.createElement('div');\n",
              "          docLink.innerHTML = docLinkHtml;\n",
              "          element.appendChild(docLink);\n",
              "        }\n",
              "      </script>\n",
              "    </div>\n",
              "  </div>\n",
              "  "
            ]
          },
          "metadata": {},
          "execution_count": 45
        }
      ]
    },
    {
      "cell_type": "markdown",
      "source": [
        "A view of what a route looks like when it's on the wall. You can see the route here: https://www.moonboard.com/Problems/View/62575/project-2\n",
        "\n",
        "0 = hold not included\n",
        "\n",
        "1 = start\n",
        "\n",
        "2 = default hold\n",
        "\n",
        "3 = finish"
      ],
      "metadata": {
        "id": "5lP67rGxHb2D"
      }
    },
    {
      "cell_type": "code",
      "source": [
        "routesDf['Full Board'] = ''\n",
        "routesDf['Binary Board'] = ''\n",
        "routesDf['Location Coords'] = ''\n",
        "for i in routesDf.index:\n",
        "  routesDf.at[i, 'Full Board'] = boardify(routesDf.at[i, 'Locations'], routesDf.at[i, 'Hold Types'])\n",
        "  routesDf.at[i, 'Binary Board'] = getBinaryBoard(routesDf.at[i, 'Full Board'])\n",
        "  routesDf.at[i, 'Location Coords'] = getCoords(routesDf.at[i, 'Locations'])"
      ],
      "metadata": {
        "id": "1SiibevvxbnZ"
      },
      "execution_count": 35,
      "outputs": []
    },
    {
      "cell_type": "markdown",
      "source": [
        "A look at our distribution of grades, because we have so little data at the higher end of our grades we will likely have trouble predicting in this area. Hopefully we'll still be able to predict the lower and middle ends of grades."
      ],
      "metadata": {
        "id": "gw4AhdD1H9yz"
      }
    },
    {
      "cell_type": "code",
      "source": [
        "routesDf['Grade'].value_counts().to_frame().sort_index().plot(kind='bar')"
      ],
      "metadata": {
        "colab": {
          "base_uri": "https://localhost:8080/",
          "height": 294
        },
        "id": "NfKIm1zjwBvb",
        "outputId": "61efcc8b-d267-47f6-9e43-62287d384a68"
      },
      "execution_count": 36,
      "outputs": [
        {
          "output_type": "execute_result",
          "data": {
            "text/plain": [
              "<matplotlib.axes._subplots.AxesSubplot at 0x7f1764252b10>"
            ]
          },
          "metadata": {},
          "execution_count": 36
        },
        {
          "output_type": "display_data",
          "data": {
            "text/plain": [
              "<Figure size 432x288 with 1 Axes>"
            ],
            "image/png": "[encoded data removed]"
          },
          "metadata": {
            "needs_background": "light"
          }
        }
      ]
    },
    {
      "cell_type": "markdown",
      "source": [
        "### Feature Engineering"
      ],
      "metadata": {
        "id": "UwZH6gSZJDGi"
      }
    },
    {
      "cell_type": "code",
      "source": [
        "import math\n",
        "def getCoordinateDistance(A, B):\n",
        "  return abs(math.sqrt((A[0] - B[0])**2 + (A[1] - B[1])**2))\n"
      ],
      "metadata": {
        "id": "eo4UCer2O_xg"
      },
      "execution_count": 37,
      "outputs": []
    },
    {
      "cell_type": "code",
      "source": [
        "def averageSource(sourceCoords):\n",
        "  if len(sourceCoords) > 2 or len(sourceCoords) < 1:\n",
        "    raise ValueError\n",
        "  elif len(sourceCoords) == 1:\n",
        "    return sourceCoords[0]\n",
        "  else:\n",
        "    sourceAverage = ((sourceCoords[0][0] + sourceCoords[1][0])/2, (sourceCoords[0][1] + sourceCoords[1][1])/2)\n",
        "  return sourceAverage"
      ],
      "metadata": {
        "id": "0zONYssDMoZY"
      },
      "execution_count": 76,
      "outputs": []
    },
    {
      "cell_type": "code",
      "source": [
        "def getSource(route):\n",
        "  vertices = []\n",
        "  for i in range(len(route['Hold Types'])):\n",
        "    if route['Hold Types'][i] == 1:\n",
        "      vertices.append(route['Location Coords'][i])\n",
        "  return vertices"
      ],
      "metadata": {
        "id": "AIoclEWP1bWr"
      },
      "execution_count": 56,
      "outputs": []
    },
    {
      "cell_type": "code",
      "source": [
        "def getPath(route):\n",
        "  vertices = []\n",
        "  for i in range(len(route['Hold Types'])):\n",
        "    if route['Hold Types'][i] == 2:\n",
        "      vertices.append(route['Location Coords'][i])\n",
        "  return vertices"
      ],
      "metadata": {
        "id": "W97ekA1j8FBf"
      },
      "execution_count": 57,
      "outputs": []
    },
    {
      "cell_type": "code",
      "source": [
        "def getSinks(route):\n",
        "  sink = []\n",
        "  for i in range(len(route['Hold Types'])):\n",
        "    if route['Hold Types'][i] == 3:\n",
        "      sink.append(route['Location Coords'][i])\n",
        "  return sink"
      ],
      "metadata": {
        "id": "t0Ps2RLqWotQ"
      },
      "execution_count": 39,
      "outputs": []
    },
    {
      "cell_type": "code",
      "source": [
        "#This is gonna be sloppy but here's what's going on, we have a modified Dijksta's\n",
        "#We have tuples that are used in place of actual objects. (let's say it's because of speed)\n",
        "#the tuples should have been lists but it made more sense in my head to make them tuples at the time\n",
        "#Really, seriously, they should just be classes.\n",
        "#The first value is the x coordinate, the second is the y coordinate\n",
        "#The third value is the dist value and the second is the prev value\n",
        "def modifiedDijkstra(sourceCoords, pathCoords, finishCoords):\n",
        "  path = []\n",
        "  sourceAverage = averageSource(sourceCoords)\n",
        "\n",
        "  vertices = pathCoords + finishCoords\n",
        "  \n",
        "  #Set Dijkstra up \n",
        "  \n",
        "  for v in range(len(vertices)):\n",
        "    if vertices[v] != sourceAverage:\n",
        "      vertices[v] = vertices[v] + (1000, None)\n",
        "  sourceAverage = sourceAverage + (0, None)\n",
        "\n",
        "  vertices.append(sourceAverage)\n",
        "\n",
        "  while (len(vertices)) > 0:\n",
        "    min = (0,0,1001,0)\n",
        "    \n",
        "    #Finding Shortest dist and removing \n",
        "    for v in range(len(vertices)):\n",
        "      if vertices[v][2] < min[2]:\n",
        "        min = vertices[v]\n",
        "      print(min)\n",
        "\n",
        "    path.append(min)\n",
        "    vertices.remove(min)\n",
        "\n",
        "    print(vertices)\n",
        "    for v in range(len(vertices)):\n",
        "      \n",
        "      alt = min[2] + getCoordinateDistance(min,vertices[v])\n",
        "      #print(alt)\n",
        "      if alt < vertices[v][2]:\n",
        "\n",
        "        #Gotta make the tuple a list\n",
        "        tempVert = list(vertices[v])\n",
        "        tempVert[2] = alt\n",
        "        tempVert[3] = min[0:2]\n",
        "        vertices[v] = tuple(tempVert)\n",
        "\n",
        "  return path"
      ],
      "metadata": {
        "id": "QM4sRG3aDyph"
      },
      "execution_count": 158,
      "outputs": []
    },
    {
      "cell_type": "code",
      "source": [
        "def getHoldPath(route):\n",
        "\n",
        "  source = getSource(route)\n",
        "  path = getPath(route)\n",
        "  sink = getSinks(route)\n",
        "\n",
        "  return modifiedDijkstra(source, path, sink)"
      ],
      "metadata": {
        "id": "zM1jLD1zRSOW"
      },
      "execution_count": 133,
      "outputs": []
    },
    {
      "cell_type": "code",
      "source": [
        "r = routesDf.iloc[1]"
      ],
      "metadata": {
        "id": "hHp4wnfGMnb_"
      },
      "execution_count": 142,
      "outputs": []
    },
    {
      "cell_type": "code",
      "source": [
        "r"
      ],
      "metadata": {
        "colab": {
          "base_uri": "https://localhost:8080/"
        },
        "id": "aQETUVBASDrT",
        "outputId": "3ee06b6c-9bcd-4bad-a70f-b274b1b6e389"
      },
      "execution_count": 146,
      "outputs": [
        {
          "output_type": "execute_result",
          "data": {
            "text/plain": [
              "Name                                                       PROJECT 2\n",
              "Grade                                                            8A+\n",
              "Locations                               [A16, A18, D10, H14, K6, K7]\n",
              "Hold Types                                        [2, 3, 2, 2, 1, 2]\n",
              "Full Board         [[3, 0, 0, 0, 0, 0, 0, 0, 0, 0, 0], [0, 0, 0, ...\n",
              "Binary Board       [[1, 0, 0, 0, 0, 0, 0, 0, 0, 0, 0], [0, 0, 0, ...\n",
              "Location Coords    [(2, 0), (0, 0), (8, 3), (4, 7), (12, 10), (11...\n",
              "Name: 1, dtype: object"
            ]
          },
          "metadata": {},
          "execution_count": 146
        }
      ]
    },
    {
      "cell_type": "code",
      "source": [
        "a = getHoldPath(r)"
      ],
      "metadata": {
        "id": "vc8BYt98FvDl"
      },
      "execution_count": null,
      "outputs": []
    },
    {
      "cell_type": "code",
      "source": [
        ""
      ],
      "metadata": {
        "id": "fgd0BHASXpAT"
      },
      "execution_count": null,
      "outputs": []
    }
  ]
}