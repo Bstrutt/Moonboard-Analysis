{
  "nbformat": 4,
  "nbformat_minor": 0,
  "metadata": {
    "colab": {
      "name": "Moonboard Main.ipynb",
      "provenance": [],
      "collapsed_sections": [],
      "authorship_tag": "ABX9TyP0nmXTvt3BCkuz5TP3s85N",
      "include_colab_link": true
    },
    "kernelspec": {
      "name": "python3",
      "display_name": "Python 3"
    },
    "language_info": {
      "name": "python"
    }
  },
  "cells": [
    {
      "cell_type": "markdown",
      "metadata": {
        "id": "view-in-github",
        "colab_type": "text"
      },
      "source": [
        "<a href=\"https://colab.research.google.com/github/Bstrutt/Moonboard-Analysis/blob/main/Moonboard_Main.ipynb\" target=\"_parent\"><img src=\"https://colab.research.google.com/assets/colab-badge.svg\" alt=\"Open In Colab\"/></a>"
      ]
    },
    {
      "cell_type": "markdown",
      "source": [
        "### Imports"
      ],
      "metadata": {
        "id": "2GBBm14apt-n"
      }
    },
    {
      "cell_type": "code",
      "source": [
        "!pip install requests_html\n",
        "import requests\n",
        "from requests_html import HTMLSession\n",
        "from json import JSONDecoder\n",
        "import pandas as pd\n"
      ],
      "metadata": {
        "id": "BjYog_Zl2PsG",
        "colab": {
          "base_uri": "https://localhost:8080/"
        },
        "outputId": "3789b81e-0705-41ad-8dac-642ce5c8f358"
      },
      "execution_count": 1,
      "outputs": [
        {
          "output_type": "stream",
          "name": "stdout",
          "text": [
            "Collecting requests_html\n",
            "  Downloading requests_html-0.10.0-py3-none-any.whl (13 kB)\n",
            "Requirement already satisfied: bs4 in /usr/local/lib/python3.7/dist-packages (from requests_html) (0.0.1)\n",
            "Collecting pyppeteer>=0.0.14\n",
            "  Downloading pyppeteer-1.0.2-py3-none-any.whl (83 kB)\n",
            "\u001b[K     |████████████████████████████████| 83 kB 1.3 MB/s \n",
            "\u001b[?25hRequirement already satisfied: requests in /usr/local/lib/python3.7/dist-packages (from requests_html) (2.23.0)\n",
            "Collecting w3lib\n",
            "  Downloading w3lib-1.22.0-py2.py3-none-any.whl (20 kB)\n",
            "Collecting pyquery\n",
            "  Downloading pyquery-1.4.3-py3-none-any.whl (22 kB)\n",
            "Collecting fake-useragent\n",
            "  Downloading fake-useragent-0.1.11.tar.gz (13 kB)\n",
            "Collecting parse\n",
            "  Downloading parse-1.19.0.tar.gz (30 kB)\n",
            "Requirement already satisfied: tqdm<5.0.0,>=4.42.1 in /usr/local/lib/python3.7/dist-packages (from pyppeteer>=0.0.14->requests_html) (4.63.0)\n",
            "Collecting pyee<9.0.0,>=8.1.0\n",
            "  Downloading pyee-8.2.2-py2.py3-none-any.whl (12 kB)\n",
            "Collecting urllib3<2.0.0,>=1.25.8\n",
            "  Downloading urllib3-1.26.9-py2.py3-none-any.whl (138 kB)\n",
            "\u001b[K     |████████████████████████████████| 138 kB 28.2 MB/s \n",
            "\u001b[?25hRequirement already satisfied: appdirs<2.0.0,>=1.4.3 in /usr/local/lib/python3.7/dist-packages (from pyppeteer>=0.0.14->requests_html) (1.4.4)\n",
            "Requirement already satisfied: importlib-metadata>=1.4 in /usr/local/lib/python3.7/dist-packages (from pyppeteer>=0.0.14->requests_html) (4.11.3)\n",
            "Collecting websockets<11.0,>=10.0\n",
            "  Downloading websockets-10.2-cp37-cp37m-manylinux_2_5_x86_64.manylinux1_x86_64.manylinux_2_12_x86_64.manylinux2010_x86_64.whl (111 kB)\n",
            "\u001b[K     |████████████████████████████████| 111 kB 34.4 MB/s \n",
            "\u001b[?25hRequirement already satisfied: certifi>=2021 in /usr/local/lib/python3.7/dist-packages (from pyppeteer>=0.0.14->requests_html) (2021.10.8)\n",
            "Requirement already satisfied: zipp>=0.5 in /usr/local/lib/python3.7/dist-packages (from importlib-metadata>=1.4->pyppeteer>=0.0.14->requests_html) (3.7.0)\n",
            "Requirement already satisfied: typing-extensions>=3.6.4 in /usr/local/lib/python3.7/dist-packages (from importlib-metadata>=1.4->pyppeteer>=0.0.14->requests_html) (3.10.0.2)\n",
            "Requirement already satisfied: beautifulsoup4 in /usr/local/lib/python3.7/dist-packages (from bs4->requests_html) (4.6.3)\n",
            "Requirement already satisfied: lxml>=2.1 in /usr/local/lib/python3.7/dist-packages (from pyquery->requests_html) (4.2.6)\n",
            "Collecting cssselect>0.7.9\n",
            "  Downloading cssselect-1.1.0-py2.py3-none-any.whl (16 kB)\n",
            "Requirement already satisfied: chardet<4,>=3.0.2 in /usr/local/lib/python3.7/dist-packages (from requests->requests_html) (3.0.4)\n",
            "Collecting urllib3<2.0.0,>=1.25.8\n",
            "  Downloading urllib3-1.25.11-py2.py3-none-any.whl (127 kB)\n",
            "\u001b[K     |████████████████████████████████| 127 kB 35.7 MB/s \n",
            "\u001b[?25hRequirement already satisfied: idna<3,>=2.5 in /usr/local/lib/python3.7/dist-packages (from requests->requests_html) (2.10)\n",
            "Requirement already satisfied: six>=1.4.1 in /usr/local/lib/python3.7/dist-packages (from w3lib->requests_html) (1.15.0)\n",
            "Building wheels for collected packages: fake-useragent, parse\n",
            "  Building wheel for fake-useragent (setup.py) ... \u001b[?25l\u001b[?25hdone\n",
            "  Created wheel for fake-useragent: filename=fake_useragent-0.1.11-py3-none-any.whl size=13502 sha256=ab7be2fd52813e668a999fcac7b81b1d3a239a4445005b7eb27c6efcbdfa7080\n",
            "  Stored in directory: /root/.cache/pip/wheels/ed/f7/62/50ab6c9a0b5567267ab76a9daa9d06315704209b2c5d032031\n",
            "  Building wheel for parse (setup.py) ... \u001b[?25l\u001b[?25hdone\n",
            "  Created wheel for parse: filename=parse-1.19.0-py3-none-any.whl size=24591 sha256=9cb5948629fcbfc00331d7e5e7422e866b8781f477aeb680e7ce6e9150d0927c\n",
            "  Stored in directory: /root/.cache/pip/wheels/9c/aa/cc/f2228050ccb40f22144b073f15a2c84f11204f29fc0dce028e\n",
            "Successfully built fake-useragent parse\n",
            "Installing collected packages: websockets, urllib3, pyee, cssselect, w3lib, pyquery, pyppeteer, parse, fake-useragent, requests-html\n",
            "  Attempting uninstall: urllib3\n",
            "    Found existing installation: urllib3 1.24.3\n",
            "    Uninstalling urllib3-1.24.3:\n",
            "      Successfully uninstalled urllib3-1.24.3\n",
            "\u001b[31mERROR: pip's dependency resolver does not currently take into account all the packages that are installed. This behaviour is the source of the following dependency conflicts.\n",
            "datascience 0.10.6 requires folium==0.2.1, but you have folium 0.8.3 which is incompatible.\u001b[0m\n",
            "Successfully installed cssselect-1.1.0 fake-useragent-0.1.11 parse-1.19.0 pyee-8.2.2 pyppeteer-1.0.2 pyquery-1.4.3 requests-html-0.10.0 urllib3-1.25.11 w3lib-1.22.0 websockets-10.2\n"
          ]
        }
      ]
    },
    {
      "cell_type": "markdown",
      "source": [
        "### Helper Functions "
      ],
      "metadata": {
        "id": "4EpyRNTLpawE"
      }
    },
    {
      "cell_type": "code",
      "source": [
        "#This function taken directly from here: https://stackoverflow.com/questions/54235528/how-to-find-json-object-in-text-with-python\n",
        "def extract_json_objects(text, decoder=JSONDecoder()):\n",
        "    pos = 0\n",
        "    while True:\n",
        "        match = text.find('{', pos)\n",
        "        if match == -1:\n",
        "            break\n",
        "        try:\n",
        "            result, index = decoder.raw_decode(text[match:])\n",
        "            return result\n",
        "            pos = match + index\n",
        "        except ValueError:\n",
        "            pos = match + 1"
      ],
      "metadata": {
        "id": "5wbp_PhMAAtZ"
      },
      "execution_count": 2,
      "outputs": []
    },
    {
      "cell_type": "code",
      "source": [
        "def column(letter):\n",
        "    if letter == 'A':\n",
        "      return 0\n",
        "    elif letter == 'B':\n",
        "      return 1\n",
        "    elif letter == 'C':\n",
        "      return 2\n",
        "    elif letter == 'D':\n",
        "      return 3\n",
        "    elif letter == 'E':\n",
        "      return 4\n",
        "    elif letter == 'F':\n",
        "      return 5\n",
        "    elif letter == 'G':\n",
        "      return 6\n",
        "    elif letter == 'H':\n",
        "      return 7\n",
        "    elif letter == 'I':\n",
        "      return 8\n",
        "    elif letter == 'J':\n",
        "      return 9\n",
        "    elif letter == 'K':\n",
        "      return 10\n",
        "    elif letter == 'L':\n",
        "      return 11"
      ],
      "metadata": {
        "id": "KJYQklrRB9CJ"
      },
      "execution_count": 3,
      "outputs": []
    },
    {
      "cell_type": "code",
      "source": [
        "def boardify(locationsList, typeList):\n",
        "  board = [[0 for i in range(11)] for j in range(18)]\n",
        "  for (loc, typ) in zip(locationsList, typeList):\n",
        "    col = column(loc[0])\n",
        "    row = 18 - int(loc[1:])\n",
        "    board[row][col] = typ\n",
        "  return board\n",
        "  "
      ],
      "metadata": {
        "id": "-WDSKd1jpZQI"
      },
      "execution_count": 4,
      "outputs": []
    },
    {
      "cell_type": "code",
      "source": [
        "def getBinaryBoard(board):\n",
        "  binBoard = [[0 for i in range(11)] for j in range(18)]\n",
        "  for i in range(0,len(board)):\n",
        "    for j in range(len(board[i])):\n",
        "      if board[i][j] != 0:\n",
        "        binBoard[i][j] = 1\n",
        "      else:\n",
        "        binBoard[i][j] = 0\n",
        "  return binBoard\n"
      ],
      "metadata": {
        "id": "VNyaS594DNJg"
      },
      "execution_count": 5,
      "outputs": []
    },
    {
      "cell_type": "code",
      "source": [
        "def getCoords(locList):\n",
        "  coords = []\n",
        "  for loc in locList:\n",
        "    col = column(loc[0])\n",
        "    row = 18 - int(loc[1:])\n",
        "    coords.append((row, col))\n",
        "  return coords"
      ],
      "metadata": {
        "id": "KHdvTzxPJQsN"
      },
      "execution_count": 6,
      "outputs": []
    },
    {
      "cell_type": "markdown",
      "source": [
        "### Scraping and dataframing\n",
        "\n",
        "Our eventual output is a dataframe called 'routesDf'\n",
        "\n",
        "The URL callouts can take a bit, usually around 3 minutes."
      ],
      "metadata": {
        "id": "xukU424ppf2B"
      }
    },
    {
      "cell_type": "code",
      "execution_count": 7,
      "metadata": {
        "id": "mvCjLMBN1ln1"
      },
      "outputs": [],
      "source": [
        "BASE = 'https://www.moonboard.com'\n",
        "path = ''\n",
        "\n",
        "session = HTMLSession()"
      ]
    },
    {
      "cell_type": "code",
      "source": [
        "routeJsons = []\n",
        "file = open('benchmarkPaths', 'r')\n",
        "Lines = file.readlines()\n",
        "\n",
        "for line in Lines:\n",
        "  url = BASE + line[:-1]\n",
        "  response = session.get(url)\n",
        "  text = response.text\n",
        "  routeJsons.append(extract_json_objects(text))\n",
        "routeJsons = routeJsons[:-1]"
      ],
      "metadata": {
        "id": "oyCEasl41riH"
      },
      "execution_count": 8,
      "outputs": []
    },
    {
      "cell_type": "code",
      "source": [
        "#Trying to test which of these is faster\n",
        "grades = []\n",
        "locations = []\n",
        "holds = []\n",
        "names = []\n",
        "for route in routeJsons:\n",
        "  grades.append(route['Grade'])\n",
        "  names.append(route['Name'])\n",
        "  locationDescriptions = []\n",
        "  holdTypes = []\n",
        "  for loc in route['Locations']:\n",
        "    locationDescriptions.append(loc['Description'])\n",
        "    holdTypes.append(loc['Type'])\n",
        "  locations.append(locationDescriptions)\n",
        "  holds.append(holdTypes)"
      ],
      "metadata": {
        "id": "GLxNjBSm9YyN"
      },
      "execution_count": 9,
      "outputs": []
    },
    {
      "cell_type": "code",
      "source": [
        "routesDf = pd.DataFrame()\n",
        "\n",
        "routesDf.insert(0, 'Name', names)\n",
        "routesDf.insert(1, 'Grade', grades)\n",
        "routesDf.insert(2, 'Locations', locations)\n",
        "routesDf.insert(3, 'Hold Types', holds)\n"
      ],
      "metadata": {
        "id": "n_3ouRgXHfV9"
      },
      "execution_count": 10,
      "outputs": []
    },
    {
      "cell_type": "markdown",
      "source": [
        "### EDA"
      ],
      "metadata": {
        "id": "DCnW6z77rvwo"
      }
    },
    {
      "cell_type": "markdown",
      "source": [
        "A simple look at our data now that it's processed."
      ],
      "metadata": {
        "id": "SwHbOFNOHUmS"
      }
    },
    {
      "cell_type": "code",
      "source": [
        "routesDf"
      ],
      "metadata": {
        "colab": {
          "base_uri": "https://localhost:8080/",
          "height": 424
        },
        "id": "Ml18X_hRry-L",
        "outputId": "5874c7aa-b24c-4aa7-e495-2cdff254fcc9"
      },
      "execution_count": 11,
      "outputs": [
        {
          "output_type": "execute_result",
          "data": {
            "text/plain": [
              "                  Name Grade                                  Locations  \\\n",
              "0         BLACK BEAUTY    8B                         [E14, H18, I9, J5]   \n",
              "1            PROJECT 2   8A+               [A16, A18, D10, H14, K6, K7]   \n",
              "2      SHATTERED MERCY   8A+       [B4, C18, D3, G7, H15, H14, I8, K12]   \n",
              "3         ATTIC ADDICT    8A       [A18, E6, F16, F15, F8, G2, J12, J6]   \n",
              "4                BUNNY    8A       [B4, G7, G16, H18, H7, K8, K10, K13]   \n",
              "..                 ...   ...                                        ...   \n",
              "442      WARM UP NO. 8   6B+          [E18, F13, F5, I10, I16, J12, J8]   \n",
              "443  WUTHERING HEIGHTS   6B+          [E15, E18, F5, G13, I11, J8, K11]   \n",
              "444          YAYABLACK   6B+       [C13, D18, D15, E8, H10, H5, J7, J5]   \n",
              "445      YOU GET A CAR   6B+  [A9, C13, D12, E8, F14, F5, G14, G18, K5]   \n",
              "446                課題2   6B+               [C10, E8, F15, F5, G14, I18]   \n",
              "\n",
              "                      Hold Types  \n",
              "0                   [2, 3, 2, 1]  \n",
              "1             [2, 3, 2, 2, 1, 2]  \n",
              "2       [1, 3, 1, 2, 2, 2, 2, 2]  \n",
              "3       [3, 1, 2, 2, 2, 1, 2, 2]  \n",
              "4       [1, 2, 2, 3, 2, 2, 2, 2]  \n",
              "..                           ...  \n",
              "442        [3, 2, 1, 2, 2, 2, 2]  \n",
              "443        [2, 3, 1, 2, 2, 2, 2]  \n",
              "444     [2, 3, 2, 2, 2, 1, 2, 1]  \n",
              "445  [2, 2, 2, 2, 2, 2, 2, 3, 1]  \n",
              "446           [2, 2, 2, 1, 2, 3]  \n",
              "\n",
              "[447 rows x 4 columns]"
            ],
            "text/html": [
              "\n",
              "  <div id=\"df-00d35bc3-c2d0-403c-b9c0-a06f6977ab4e\">\n",
              "    <div class=\"colab-df-container\">\n",
              "      <div>\n",
              "<style scoped>\n",
              "    .dataframe tbody tr th:only-of-type {\n",
              "        vertical-align: middle;\n",
              "    }\n",
              "\n",
              "    .dataframe tbody tr th {\n",
              "        vertical-align: top;\n",
              "    }\n",
              "\n",
              "    .dataframe thead th {\n",
              "        text-align: right;\n",
              "    }\n",
              "</style>\n",
              "<table border=\"1\" class=\"dataframe\">\n",
              "  <thead>\n",
              "    <tr style=\"text-align: right;\">\n",
              "      <th></th>\n",
              "      <th>Name</th>\n",
              "      <th>Grade</th>\n",
              "      <th>Locations</th>\n",
              "      <th>Hold Types</th>\n",
              "    </tr>\n",
              "  </thead>\n",
              "  <tbody>\n",
              "    <tr>\n",
              "      <th>0</th>\n",
              "      <td>BLACK BEAUTY</td>\n",
              "      <td>8B</td>\n",
              "      <td>[E14, H18, I9, J5]</td>\n",
              "      <td>[2, 3, 2, 1]</td>\n",
              "    </tr>\n",
              "    <tr>\n",
              "      <th>1</th>\n",
              "      <td>PROJECT 2</td>\n",
              "      <td>8A+</td>\n",
              "      <td>[A16, A18, D10, H14, K6, K7]</td>\n",
              "      <td>[2, 3, 2, 2, 1, 2]</td>\n",
              "    </tr>\n",
              "    <tr>\n",
              "      <th>2</th>\n",
              "      <td>SHATTERED MERCY</td>\n",
              "      <td>8A+</td>\n",
              "      <td>[B4, C18, D3, G7, H15, H14, I8, K12]</td>\n",
              "      <td>[1, 3, 1, 2, 2, 2, 2, 2]</td>\n",
              "    </tr>\n",
              "    <tr>\n",
              "      <th>3</th>\n",
              "      <td>ATTIC ADDICT</td>\n",
              "      <td>8A</td>\n",
              "      <td>[A18, E6, F16, F15, F8, G2, J12, J6]</td>\n",
              "      <td>[3, 1, 2, 2, 2, 1, 2, 2]</td>\n",
              "    </tr>\n",
              "    <tr>\n",
              "      <th>4</th>\n",
              "      <td>BUNNY</td>\n",
              "      <td>8A</td>\n",
              "      <td>[B4, G7, G16, H18, H7, K8, K10, K13]</td>\n",
              "      <td>[1, 2, 2, 3, 2, 2, 2, 2]</td>\n",
              "    </tr>\n",
              "    <tr>\n",
              "      <th>...</th>\n",
              "      <td>...</td>\n",
              "      <td>...</td>\n",
              "      <td>...</td>\n",
              "      <td>...</td>\n",
              "    </tr>\n",
              "    <tr>\n",
              "      <th>442</th>\n",
              "      <td>WARM UP NO. 8</td>\n",
              "      <td>6B+</td>\n",
              "      <td>[E18, F13, F5, I10, I16, J12, J8]</td>\n",
              "      <td>[3, 2, 1, 2, 2, 2, 2]</td>\n",
              "    </tr>\n",
              "    <tr>\n",
              "      <th>443</th>\n",
              "      <td>WUTHERING HEIGHTS</td>\n",
              "      <td>6B+</td>\n",
              "      <td>[E15, E18, F5, G13, I11, J8, K11]</td>\n",
              "      <td>[2, 3, 1, 2, 2, 2, 2]</td>\n",
              "    </tr>\n",
              "    <tr>\n",
              "      <th>444</th>\n",
              "      <td>YAYABLACK</td>\n",
              "      <td>6B+</td>\n",
              "      <td>[C13, D18, D15, E8, H10, H5, J7, J5]</td>\n",
              "      <td>[2, 3, 2, 2, 2, 1, 2, 1]</td>\n",
              "    </tr>\n",
              "    <tr>\n",
              "      <th>445</th>\n",
              "      <td>YOU GET A CAR</td>\n",
              "      <td>6B+</td>\n",
              "      <td>[A9, C13, D12, E8, F14, F5, G14, G18, K5]</td>\n",
              "      <td>[2, 2, 2, 2, 2, 2, 2, 3, 1]</td>\n",
              "    </tr>\n",
              "    <tr>\n",
              "      <th>446</th>\n",
              "      <td>課題2</td>\n",
              "      <td>6B+</td>\n",
              "      <td>[C10, E8, F15, F5, G14, I18]</td>\n",
              "      <td>[2, 2, 2, 1, 2, 3]</td>\n",
              "    </tr>\n",
              "  </tbody>\n",
              "</table>\n",
              "<p>447 rows × 4 columns</p>\n",
              "</div>\n",
              "      <button class=\"colab-df-convert\" onclick=\"convertToInteractive('df-00d35bc3-c2d0-403c-b9c0-a06f6977ab4e')\"\n",
              "              title=\"Convert this dataframe to an interactive table.\"\n",
              "              style=\"display:none;\">\n",
              "        \n",
              "  <svg xmlns=\"http://www.w3.org/2000/svg\" height=\"24px\"viewBox=\"0 0 24 24\"\n",
              "       width=\"24px\">\n",
              "    <path d=\"M0 0h24v24H0V0z\" fill=\"none\"/>\n",
              "    <path d=\"M18.56 5.44l.94 2.06.94-2.06 2.06-.94-2.06-.94-.94-2.06-.94 2.06-2.06.94zm-11 1L8.5 8.5l.94-2.06 2.06-.94-2.06-.94L8.5 2.5l-.94 2.06-2.06.94zm10 10l.94 2.06.94-2.06 2.06-.94-2.06-.94-.94-2.06-.94 2.06-2.06.94z\"/><path d=\"M17.41 7.96l-1.37-1.37c-.4-.4-.92-.59-1.43-.59-.52 0-1.04.2-1.43.59L10.3 9.45l-7.72 7.72c-.78.78-.78 2.05 0 2.83L4 21.41c.39.39.9.59 1.41.59.51 0 1.02-.2 1.41-.59l7.78-7.78 2.81-2.81c.8-.78.8-2.07 0-2.86zM5.41 20L4 18.59l7.72-7.72 1.47 1.35L5.41 20z\"/>\n",
              "  </svg>\n",
              "      </button>\n",
              "      \n",
              "  <style>\n",
              "    .colab-df-container {\n",
              "      display:flex;\n",
              "      flex-wrap:wrap;\n",
              "      gap: 12px;\n",
              "    }\n",
              "\n",
              "    .colab-df-convert {\n",
              "      background-color: #E8F0FE;\n",
              "      border: none;\n",
              "      border-radius: 50%;\n",
              "      cursor: pointer;\n",
              "      display: none;\n",
              "      fill: #1967D2;\n",
              "      height: 32px;\n",
              "      padding: 0 0 0 0;\n",
              "      width: 32px;\n",
              "    }\n",
              "\n",
              "    .colab-df-convert:hover {\n",
              "      background-color: #E2EBFA;\n",
              "      box-shadow: 0px 1px 2px rgba(60, 64, 67, 0.3), 0px 1px 3px 1px rgba(60, 64, 67, 0.15);\n",
              "      fill: #174EA6;\n",
              "    }\n",
              "\n",
              "    [theme=dark] .colab-df-convert {\n",
              "      background-color: #3B4455;\n",
              "      fill: #D2E3FC;\n",
              "    }\n",
              "\n",
              "    [theme=dark] .colab-df-convert:hover {\n",
              "      background-color: #434B5C;\n",
              "      box-shadow: 0px 1px 3px 1px rgba(0, 0, 0, 0.15);\n",
              "      filter: drop-shadow(0px 1px 2px rgba(0, 0, 0, 0.3));\n",
              "      fill: #FFFFFF;\n",
              "    }\n",
              "  </style>\n",
              "\n",
              "      <script>\n",
              "        const buttonEl =\n",
              "          document.querySelector('#df-00d35bc3-c2d0-403c-b9c0-a06f6977ab4e button.colab-df-convert');\n",
              "        buttonEl.style.display =\n",
              "          google.colab.kernel.accessAllowed ? 'block' : 'none';\n",
              "\n",
              "        async function convertToInteractive(key) {\n",
              "          const element = document.querySelector('#df-00d35bc3-c2d0-403c-b9c0-a06f6977ab4e');\n",
              "          const dataTable =\n",
              "            await google.colab.kernel.invokeFunction('convertToInteractive',\n",
              "                                                     [key], {});\n",
              "          if (!dataTable) return;\n",
              "\n",
              "          const docLinkHtml = 'Like what you see? Visit the ' +\n",
              "            '<a target=\"_blank\" href=https://colab.research.google.com/notebooks/data_table.ipynb>data table notebook</a>'\n",
              "            + ' to learn more about interactive tables.';\n",
              "          element.innerHTML = '';\n",
              "          dataTable['output_type'] = 'display_data';\n",
              "          await google.colab.output.renderOutput(dataTable, element);\n",
              "          const docLink = document.createElement('div');\n",
              "          docLink.innerHTML = docLinkHtml;\n",
              "          element.appendChild(docLink);\n",
              "        }\n",
              "      </script>\n",
              "    </div>\n",
              "  </div>\n",
              "  "
            ]
          },
          "metadata": {},
          "execution_count": 11
        }
      ]
    },
    {
      "cell_type": "markdown",
      "source": [
        "A view of what a route looks like when it's on the wall. You can see the route here: https://www.moonboard.com/Problems/View/62575/project-2\n",
        "\n",
        "0 = hold not included\n",
        "\n",
        "1 = start\n",
        "\n",
        "2 = default hold\n",
        "\n",
        "3 = finish"
      ],
      "metadata": {
        "id": "5lP67rGxHb2D"
      }
    },
    {
      "cell_type": "code",
      "source": [
        "routesDf['Full Board'] = ''\n",
        "routesDf['Binary Board'] = ''\n",
        "routesDf['Location Coords'] = ''\n",
        "for i in routesDf.index:\n",
        "  routesDf.at[i, 'Full Board'] = boardify(routesDf.at[i, 'Locations'], routesDf.at[i, 'Hold Types'])\n",
        "  routesDf.at[i, 'Binary Board'] = getBinaryBoard(routesDf.at[i, 'Full Board'])\n",
        "  routesDf.at[i, 'Location Coords'] = getCoords(routesDf.at[i, 'Locations'])"
      ],
      "metadata": {
        "id": "1SiibevvxbnZ"
      },
      "execution_count": 12,
      "outputs": []
    },
    {
      "cell_type": "markdown",
      "source": [
        "A look at our distribution of grades, because we have so little data at the higher end of our grades we will likely have trouble predicting in this area. Hopefully we'll still be able to predict the lower and middle ends of grades."
      ],
      "metadata": {
        "id": "gw4AhdD1H9yz"
      }
    },
    {
      "cell_type": "code",
      "source": [
        "routesDf['Grade'].value_counts().to_frame().sort_index().plot(kind='bar')"
      ],
      "metadata": {
        "colab": {
          "base_uri": "https://localhost:8080/",
          "height": 294
        },
        "id": "NfKIm1zjwBvb",
        "outputId": "7448fa02-f645-4eb7-de45-ec2753b951d1"
      },
      "execution_count": 13,
      "outputs": [
        {
          "output_type": "execute_result",
          "data": {
            "text/plain": [
              "<matplotlib.axes._subplots.AxesSubplot at 0x7f798c7facd0>"
            ]
          },
          "metadata": {},
          "execution_count": 13
        },
        {
          "output_type": "display_data",
          "data": {
            "text/plain": [
              "<Figure size 432x288 with 1 Axes>"
            ],
            "image/png": "[encoded data removed]"
          },
          "metadata": {
            "needs_background": "light"
          }
        }
      ]
    },
    {
      "cell_type": "markdown",
      "source": [
        "### Feature Engineering"
      ],
      "metadata": {
        "id": "UwZH6gSZJDGi"
      }
    },
    {
      "cell_type": "code",
      "source": [
        "import math\n",
        "def getCoordinateDistance(A, B):\n",
        "  return abs(math.sqrt((A[0] - B[0])**2 + (A[1] - B[1])**2))\n"
      ],
      "metadata": {
        "id": "eo4UCer2O_xg"
      },
      "execution_count": 14,
      "outputs": []
    },
    {
      "cell_type": "code",
      "source": [
        "def averageSource(route):\n",
        "  source = []\n",
        "  for i in range(len(route['Hold Types'])):\n",
        "    if route['Hold Types'][i] == 1:\n",
        "      source.append(route['Location Coords'][i])\n",
        "  sourceAverage = ((source[0][0] + source[1][0])/2, (source[0][1] + source[1][1])/2)\n",
        "  return sourceAverage"
      ],
      "metadata": {
        "id": "0zONYssDMoZY"
      },
      "execution_count": 19,
      "outputs": []
    },
    {
      "cell_type": "code",
      "source": [
        "def removeSource(route):\n",
        "  vertices = []\n",
        "  for i in range(len(route['Hold Types'])):\n",
        "    if route['Hold Types'][i] != 1:\n",
        "      vertices.append(route['Location Coords'][i])\n",
        "  return vertices"
      ],
      "metadata": {
        "id": "AIoclEWP1bWr"
      },
      "execution_count": 16,
      "outputs": []
    },
    {
      "cell_type": "code",
      "source": [
        "#this is gonna be sloppy but here's what's going on. \n",
        "#We have tuples that are used in place of actual objects. (let's say it's because of speed)\n",
        "#The first value is the x coordinate, the second is the y coordinate\n",
        "#The third value is the dist value and the second is the prev value\n",
        "\n",
        "def getHoldPath(route):\n",
        "  sourceAverage = averageSource(route)\n",
        "  vertices = removeSource(route)\n",
        "  #If there are 2 sinks we need to reach both, otherwise single sink.\n",
        "  sink = getSinks(route)"
      ],
      "metadata": {
        "id": "zM1jLD1zRSOW"
      },
      "execution_count": 17,
      "outputs": []
    },
    {
      "cell_type": "code",
      "source": [
        "print(routesDf.iloc[2]['Location Coords'][2] )\n",
        "print(routesDf.iloc[2]['Location Coords'][0] )\n",
        "print(removeSource(routesDf.iloc[2]))"
      ],
      "metadata": {
        "colab": {
          "base_uri": "https://localhost:8080/"
        },
        "id": "hHp4wnfGMnb_",
        "outputId": "dd48fee1-a54e-4911-b268-768c05ca90ea"
      },
      "execution_count": 18,
      "outputs": [
        {
          "output_type": "stream",
          "name": "stdout",
          "text": [
            "(15, 3)\n",
            "(14, 1)\n",
            "[(0, 2), (11, 6), (3, 7), (4, 7), (10, 8), (6, 10)]\n"
          ]
        }
      ]
    },
    {
      "cell_type": "code",
      "source": [
        ""
      ],
      "metadata": {
        "id": "t0Ps2RLqWotQ"
      },
      "execution_count": 19,
      "outputs": []
    }
  ]
}